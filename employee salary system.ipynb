{
 "cells": [
  {
   "cell_type": "code",
   "execution_count": 1,
   "id": "67697b2d",
   "metadata": {},
   "outputs": [
    {
     "name": "stdout",
     "output_type": "stream",
     "text": [
      "SALARY PROGRAM\n",
      "Enter name of employee:manish\n",
      "Enter Basic Salary :50000\n",
      "\n",
      "\n",
      "\n",
      "S A L A R Y D E T A I L E D B R E A K U P \n",
      "==============================================\n",
      " NAME OF EMPLOYEE :  manish\n",
      " BASIC SALARY :  50000.0\n",
      " DEARNESS ALLOW. :  12500.0\n",
      " HOUSE RENT ALLOW.:  7500.0\n",
      " TRAVEL ALLOW. :  3750.0\n",
      "==============================================\n",
      " NET SALARY PAY :  73750.0\n",
      " PROVIDENT FUND :  7500.0\n",
      "==============================================\n",
      " GROSS PAYMENT :  66250.0\n",
      "==============================================\n"
     ]
    }
   ],
   "source": [
    "print(\"SALARY PROGRAM\")\n",
    "name= str(input(\"Enter name of employee:\"))\n",
    "basic=float(input(\"Enter Basic Salary :\"))\n",
    "da=float(basic*0.25)\n",
    "hra=float(basic*0.15)\n",
    "pf=float((basic+da)*0.12)\n",
    "ta=float(basic*0.075)\n",
    "netpay=float(basic+da+hra+ta)\n",
    "grosspay=float(netpay-pf)\n",
    "\n",
    "print(\"\\n\\n\")\n",
    "print(\"S A L A R Y D E T A I L E D B R E A K U P \")\n",
    "print(\"==============================================\")\n",
    "print(\" NAME OF EMPLOYEE : \",name)\n",
    "print(\" BASIC SALARY : \",basic)\n",
    "print(\" DEARNESS ALLOW. : \",da)\n",
    "print(\" HOUSE RENT ALLOW.: \",hra)\n",
    "print(\" TRAVEL ALLOW. : \",ta)\n",
    "print(\"==============================================\")\n",
    "print(\" NET SALARY PAY : \",netpay)\n",
    "print(\" PROVIDENT FUND : \",pf)\n",
    "print(\"==============================================\")\n",
    "print(\" GROSS PAYMENT : \",grosspay)\n",
    "print(\"==============================================\")"
   ]
  },
  {
   "cell_type": "code",
   "execution_count": null,
   "id": "60ad0cd6",
   "metadata": {},
   "outputs": [],
   "source": []
  }
 ],
 "metadata": {
  "kernelspec": {
   "display_name": "Python 3 (ipykernel)",
   "language": "python",
   "name": "python3"
  },
  "language_info": {
   "codemirror_mode": {
    "name": "ipython",
    "version": 3
   },
   "file_extension": ".py",
   "mimetype": "text/x-python",
   "name": "python",
   "nbconvert_exporter": "python",
   "pygments_lexer": "ipython3",
   "version": "3.9.7"
  }
 },
 "nbformat": 4,
 "nbformat_minor": 5
}
